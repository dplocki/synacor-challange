{
 "metadata": {
  "language_info": {
   "codemirror_mode": {
    "name": "ipython",
    "version": 3
   },
   "file_extension": ".py",
   "mimetype": "text/x-python",
   "name": "python",
   "nbconvert_exporter": "python",
   "pygments_lexer": "ipython3",
   "version": "3.8.5-final"
  },
  "orig_nbformat": 2,
  "kernelspec": {
   "name": "python3",
   "display_name": "Python 3",
   "language": "python"
  }
 },
 "nbformat": 4,
 "nbformat_minor": 2,
 "cells": [
  {
   "source": [
    "# The vault lock\n",
    "\n",
    "Apperently the last puzzle, hidden in the ruins on the north of beach.\n",
    "\n",
    "## The founded journal\n",
    "\n",
    "> Fireflies were using this dusty old journal as a resting spot until you scared them off.  It reads:\n",
    "> \n",
    "> Day 1: We have reached what seems to be the final in a series of puzzles guarding an ancient treasure.  I suspect most adventurers give up long before this point, but we're so close!  We must press on!\n",
    "> \n",
    "> Day 1: P.S.: It's a good thing the island is tropical.  We should have food for weeks!\n",
    "> \n",
    "> Day 2: The vault appears to be sealed by a mysterious force - the door won't budge an inch.  We don't have the resources to blow it open, and I wouldn't risk damaging the contents even if we did.  We'll have to figure out the lock mechanism.\n",
    "> \n",
    "> Day 3: The door to the vault has a number carved into it.  Each room leading up to the vault has more numbers or symbols embedded in mosaics in the floors.  We even found a strange glass orb in the antechamber on a pedestal itself labeled with a number.  What could they mean?\n",
    "> \n",
    "> Day 5: We finally built up the courage to touch the strange orb in the antechamber.  It flashes colors as we carry it from room to room, and sometimes the symbols in the rooms flash colors as well.  It simply evaporates if we try to leave with it, but another appears on the pedestal in the antechamber shortly thereafter.  It also seems to do this even when we return with it to the antechamber from the other rooms.\n",
    "> \n",
    "> Day 8: When the orb is carried to the vault door, the numbers on the door flash black, and then the orb evaporates.  Did we do something wrong?  Doesn't the door like us?  We also found a small hourglass near the door, endlessly running.  Is it waiting for something?\n",
    "> \n",
    "> Day 13: Some of my crew swear the orb actually gets heaver or lighter as they walk around with it.  Is that even possible?  They say that if they walk through certain rooms repeatedly, they feel it getting lighter and lighter, but it eventually just evaporates and a new one appears as usual.\n",
    "> \n",
    "> Day 21: Now I can feel the orb changing weight as I walk around.  It depends on the area - the change is very subtle in some places, but certainly more noticeable in others, especially when I walk into a room with a larger number or out of a room marked '*'.  Perhaps we can actually control the weight of this mysterious orb?\n",
    "> \n",
    "> Day 34: One of the crewmembers was wandering the rooms today and claimed that the numbers on the door flashed white as he approached!  He said the door still didn't open, but he noticed that the hourglass had run out and flashed black.  When we went to check on it, it was still running like it always does.  Perhaps he is going mad?  If not, which do we need to appease: the door or the hourglass?  Both?\n",
    "> \n",
    "> Day 55: The fireflies are getting suspicious.  One of them looked at me funny today and then flew off.  I think I saw another one blinking a little faster than usual.  Or was it a little slower?  We are getting better at controlling the weight of the orb, and we think that's what the numbers are all about.  The orb starts at the weight labeled on the pedestal, and goes down as we leave a room marked '-', up as we leave a room marked '+', and up even more as we leave a room marked '*'.  Entering rooms with larger numbers has a greater effect.\n",
    "> \n",
    "> Day 89: Every once in a great while, one of the crewmembers has the same story: that the door flashes white, the hourglass had already run out, it flashes black, and the orb evaporates.  Are we too slow?  We can't seem to find a way to make the orb's weight match what the door wants before the hourglass runs out.  If only we could find a shorter route through the rooms...\n",
    "> \n",
    "> Day 144: We are abandoning the mission.  None of us can work out the solution to the puzzle.  I will leave this journal here to help future adventurers, though I am not sure what help it will give.  Good luck!\n",
    "\n",
    "## The map of rooms\n",
    "\n",
    "```\n",
    "         end ^ (30)\n",
    " *   8   -   1\n",
    " 4   *  11   *\n",
    " +   4   -  18\n",
    "22   -   9   *\n",
    "^\n",
    "start\n",
    "```\n",
    "\n",
    "## Other notes\n",
    "\n",
    "- orb changes colours during walking on pads (green, yellow, red)\n",
    "- if you enter to the room with vault doors and orb will not have correct weight, it will disappear\n",
    "- orb will shatter if weight drop to zero or below (number are limited to 0 - 32768)\n",
    "- orb seems to shatter if its weight cross certain value, probably around maxium 32768\n"
   ],
   "cell_type": "markdown",
   "metadata": {}
  },
  {
   "cell_type": "code",
   "execution_count": 1,
   "metadata": {},
   "outputs": [],
   "source": [
    "def parse_pad(c):\n",
    "    if c == '*':\n",
    "        return lambda a, b: a * b\n",
    "    elif c == '-':\n",
    "        return lambda a, b: a - b\n",
    "    elif c == '+':\n",
    "        return lambda a, b: a + b\n",
    "\n",
    "    return int(c)\n",
    "\n",
    "MAX_INT = 32768\n",
    "START_POINT = (0, 3)\n",
    "END_POINT = (3, 0)\n",
    "REQUESTED_VALUE = 30\n",
    "\n",
    "rooms_map = {(x, y): parse_pad(c) for y, line in enumerate(''' *   8   -   1\n",
    " 4   *  11   *\n",
    " +   4   -  18\n",
    "22   -   9   *'''.splitlines()) for x, c in enumerate(line.split())}\n"
   ]
  },
  {
   "source": [
    "The problem is finding the shortest (or rather any path, but the jorney suggest be faster than some unknown timer). The graph (map can understand as the graph) contain the negative weights, so simple approach seems to be a bad one. But, I assume, that resultion can be use typed by human, so I limited the path length."
   ],
   "cell_type": "markdown",
   "metadata": {}
  },
  {
   "cell_type": "code",
   "execution_count": 2,
   "metadata": {},
   "outputs": [],
   "source": [
    "def get_neighbours(x, y):\n",
    "    yield (x - 1, y, 'w')\n",
    "    yield (x + 1, y, 'e')\n",
    "    yield (x, y - 1, 'n')\n",
    "    yield (x, y + 1, 's')\n",
    "\n",
    "def only_existing_neighbours(x, y):\n",
    "    yield from filter(lambda p: (p[0], p[1]) in rooms_map, get_neighbours(x, y))\n",
    "\n",
    "def get_all_possibilities(x, y, starting_value):\n",
    "    yield from (\n",
    "        (\n",
    "            (neighbour_pad_x, neighbour_pad_y),\n",
    "            rooms_map[operation_pad_x, operation_pad_y](starting_value, rooms_map[neighbour_pad_x, neighbour_pad_y]),\n",
    "            operation_direction + neighbour_direction\n",
    "        )\n",
    "        for operation_pad_x, operation_pad_y, operation_direction in only_existing_neighbours(x, y)\n",
    "        for neighbour_pad_x, neighbour_pad_y, neighbour_direction in only_existing_neighbours(operation_pad_x, operation_pad_y))\n"
   ]
  },
  {
   "cell_type": "code",
   "execution_count": 3,
   "metadata": {},
   "outputs": [],
   "source": [
    "def find_path_to_value_30(maximum_path_length):\n",
    "    possibilities = [(START_POINT, rooms_map[START_POINT], '')]\n",
    "    while possibilities:\n",
    "        current_position, current_value, current_path = possibilities.pop()\n",
    "\n",
    "        # Limit for calculations\n",
    "        if len(current_path) > maximum_path_length:\n",
    "            continue\n",
    "\n",
    "        if current_position == END_POINT:\n",
    "            if current_value == REQUESTED_VALUE:\n",
    "                # We find the path\n",
    "                return current_path\n",
    "            else:\n",
    "                # Orb disappears in final room\n",
    "                continue\n",
    "\n",
    "        for room, value, path in get_all_possibilities(*current_position, current_value):\n",
    "            if 0 < value < MAX_INT and room != START_POINT:\n",
    "                possibilities.append((\n",
    "                    room,\n",
    "                    value,\n",
    "                    current_path + path\n",
    "                ))"
   ]
  },
  {
   "cell_type": "code",
   "execution_count": 4,
   "metadata": {},
   "outputs": [
    {
     "output_type": "stream",
     "name": "stdout",
     "text": [
      "Solution: neenwseewnne\nCPU times: user 2.28 s, sys: 28.3 ms, total: 2.31 s\nWall time: 2.31 s\n"
     ]
    }
   ],
   "source": [
    "%%time\n",
    "\n",
    "print('Solution:', find_path_to_value_30(12))"
   ]
  }
 ]
}