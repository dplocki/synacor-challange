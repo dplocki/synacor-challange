{
 "metadata": {
  "language_info": {
   "codemirror_mode": {
    "name": "ipython",
    "version": 3
   },
   "file_extension": ".py",
   "mimetype": "text/x-python",
   "name": "python",
   "nbconvert_exporter": "python",
   "pygments_lexer": "ipython3",
   "version": "3.8.5-final"
  },
  "orig_nbformat": 2,
  "kernelspec": {
   "name": "python3",
   "display_name": "Python 3",
   "language": "python"
  }
 },
 "nbformat": 4,
 "nbformat_minor": 2,
 "cells": [
  {
   "source": [
    "# Door puzzle\n",
    "\n",
    "We finding the puzzle:\n",
    "\n",
    "```\n",
    "_ + _ * _^2 + _^3 - _ = 399\n",
    "```\n",
    "\n",
    "Later we finds the digits: `2`, `3`, `5`, `7`, `9`.\n"
   ],
   "cell_type": "markdown",
   "metadata": {}
  },
  {
   "cell_type": "code",
   "execution_count": 1,
   "metadata": {},
   "outputs": [
    {
     "output_type": "stream",
     "name": "stdout",
     "text": [
      "9 + 2 * 5^2 + 7^3 - 3 = 399\n"
     ]
    }
   ],
   "source": [
    "from itertools import permutations\n",
    "\n",
    "def fit_the_digits(digits):\n",
    "    return next(\n",
    "        (a, b, c, d, e)\n",
    "        for a, b, c, d, e in permutations(digits, 5)\n",
    "        if a + b * c ** 2 + d ** 3 - e == 399)\n",
    "\n",
    "    \n",
    "a, b, c, d, e = fit_the_digits([2, 3, 5, 7, 9])\n",
    "print(f'{a} + {b} * {c}^2 + {d}^3 - {e} = 399')"
   ]
  }
 ]
}