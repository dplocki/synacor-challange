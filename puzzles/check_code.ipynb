{
 "metadata": {
  "language_info": {
   "codemirror_mode": {
    "name": "ipython",
    "version": 3
   },
   "file_extension": ".py",
   "mimetype": "text/x-python",
   "name": "python",
   "nbconvert_exporter": "python",
   "pygments_lexer": "ipython3",
   "version": "3.8.5-final"
  },
  "orig_nbformat": 2,
  "kernelspec": {
   "name": "python3",
   "display_name": "Python 3",
   "language": "python"
  }
 },
 "nbformat": 4,
 "nbformat_minor": 2,
 "cells": [
  {
   "source": [
    "# Breaking the check code\n",
    "\n",
    "## Strange book:\n",
    "\n",
    ">Recent advances in interdimensional physics have produced fascinating\n",
    ">predictions about the fundamentals of our universe!  For example,\n",
    ">interdimensional physics seems to predict that the universe is, at its root, a\n",
    ">purely mathematical construct, and that all events are caused by the\n",
    ">interactions between eight pockets of energy called \"registers\".\n",
    ">Furthermore, it seems that while the lower registers primarily control mundane\n",
    ">things like sound and light, the highest register (the so-called \"eighth\n",
    ">register\") is used to control interdimensional events such as teleportation.\n",
    ">\n",
    ">A hypothetical such teleportation device would need to have have exactly two\n",
    ">destinations.  One destination would be used when the eighth register is at its\n",
    ">minimum energy level - this would be the default operation assuming the user\n",
    ">has no way to control the eighth register.  In this situation, the teleporter\n",
    ">should send the user to a preconfigured safe location as a default.\n",
    ">\n",
    ">The second destination, however, is predicted to require a very specific\n",
    ">energy level in the eighth register.  The teleporter must take great care to\n",
    ">confirm that this energy level is exactly correct before teleporting its user!\n",
    ">If it is even slightly off, the user would (probably) arrive at the correct\n",
    ">location, but would briefly experience anomalies in the fabric of reality\n",
    ">itself - this is, of course, not recommended.  Any teleporter would need to test\n",
    ">the energy level in the eighth register and abort teleportation if it is not\n",
    ">exactly correct.\n",
    ">\n",
    ">This required precision implies that the confirmation mechanism would be very\n",
    ">computationally expensive.  While this would likely not be an issue for large-\n",
    ">scale teleporters, a hypothetical hand-held teleporter would take billions of\n",
    ">years to compute the result and confirm that the eighth register is correct.\n",
    ">\n",
    ">If you find yourself trapped in an alternate dimension with nothing but a\n",
    ">hand-held teleporter, you will need to extract the confirmation algorithm,\n",
    ">reimplement it on more powerful hardware, and optimize it.  This should, at the\n",
    ">very least, allow you to determine the value of the eighth register which would\n",
    ">have been accepted by the teleporter's confirmation mechanism.\n",
    ">\n",
    ">Then, set the eighth register to this value, activate the teleporter, and\n",
    ">bypass the confirmation mechanism.  If the eighth register is set correctly, no\n",
    ">anomalies should be experienced, but beware - if it is set incorrectly, the\n",
    ">now-bypassed confirmation mechanism will not protect you!\n",
    ">\n",
    ">Of course, since teleportation is impossible, this is all totally ridiculous.\n",
    "\n",
    "## Finding the check code\n",
    "\n",
    "Start to seek every line where register7 is used. There are 4 of those. By debugging the machine we can determin which line is just testing:\n",
    "* which if register7 is empty on begining\n",
    "* test when telepert is used (if register7 is 0 normall behaviour)\n",
    "* passing value of register7 to check function (actually inside of it)\n",
    "* passing value of register7 to final function which calculating the secret code\n",
    "\n",
    "## Original code of check function\n",
    "\n",
    "```\n",
    "*   6027:      jt  register_0   6035\n",
    "    6030:     add  register_0   register_1   1\n",
    "    6034:     ret\n",
    "\n",
    "    6035:      jt  register_1   6048\n",
    "    6038:     add  register_0   register_0   32767\n",
    "    6042:     set  register_1   register_7\n",
    "    6045:    call  6027\n",
    "    6047:     ret\n",
    "\n",
    "    6048:    push  register_0\n",
    "    6050:     add  register_1   register_1   32767\n",
    "    6054:    call  6027\n",
    "    6056:     set  register_1   register_0\n",
    "    6059:     pop  register_0\n",
    "    6061:     add  register_0   register_0   32767\n",
    "    6065:    call  6027\n",
    "    6067:     ret\n",
    "```"
   ],
   "cell_type": "markdown",
   "metadata": {}
  },
  {
   "cell_type": "code",
   "execution_count": 1,
   "metadata": {},
   "outputs": [
    {
     "output_type": "execute_result",
     "data": {
      "text/plain": [
       "         x in function  result    approximation\n",
       "0  (0 + 32767) % 32768   32767  (0 - 1) % 32768\n",
       "1  (1 + 32767) % 32768       0  (1 - 1) % 32768\n",
       "2  (2 + 32767) % 32768       1  (2 - 1) % 32768\n",
       "3  (3 + 32767) % 32768       2  (3 - 1) % 32768\n",
       "4  (4 + 32767) % 32768       3  (4 - 1) % 32768\n",
       "5  (5 + 32767) % 32768       4  (5 - 1) % 32768\n",
       "6  (6 + 32767) % 32768       5  (6 - 1) % 32768\n",
       "7  (7 + 32767) % 32768       6  (7 - 1) % 32768\n",
       "8  (8 + 32767) % 32768       7  (8 - 1) % 32768\n",
       "9  (9 + 32767) % 32768       8  (9 - 1) % 32768"
      ],
      "text/html": "<div>\n<style scoped>\n    .dataframe tbody tr th:only-of-type {\n        vertical-align: middle;\n    }\n\n    .dataframe tbody tr th {\n        vertical-align: top;\n    }\n\n    .dataframe thead th {\n        text-align: right;\n    }\n</style>\n<table border=\"1\" class=\"dataframe\">\n  <thead>\n    <tr style=\"text-align: right;\">\n      <th></th>\n      <th>x in function</th>\n      <th>result</th>\n      <th>approximation</th>\n    </tr>\n  </thead>\n  <tbody>\n    <tr>\n      <th>0</th>\n      <td>(0 + 32767) % 32768</td>\n      <td>32767</td>\n      <td>(0 - 1) % 32768</td>\n    </tr>\n    <tr>\n      <th>1</th>\n      <td>(1 + 32767) % 32768</td>\n      <td>0</td>\n      <td>(1 - 1) % 32768</td>\n    </tr>\n    <tr>\n      <th>2</th>\n      <td>(2 + 32767) % 32768</td>\n      <td>1</td>\n      <td>(2 - 1) % 32768</td>\n    </tr>\n    <tr>\n      <th>3</th>\n      <td>(3 + 32767) % 32768</td>\n      <td>2</td>\n      <td>(3 - 1) % 32768</td>\n    </tr>\n    <tr>\n      <th>4</th>\n      <td>(4 + 32767) % 32768</td>\n      <td>3</td>\n      <td>(4 - 1) % 32768</td>\n    </tr>\n    <tr>\n      <th>5</th>\n      <td>(5 + 32767) % 32768</td>\n      <td>4</td>\n      <td>(5 - 1) % 32768</td>\n    </tr>\n    <tr>\n      <th>6</th>\n      <td>(6 + 32767) % 32768</td>\n      <td>5</td>\n      <td>(6 - 1) % 32768</td>\n    </tr>\n    <tr>\n      <th>7</th>\n      <td>(7 + 32767) % 32768</td>\n      <td>6</td>\n      <td>(7 - 1) % 32768</td>\n    </tr>\n    <tr>\n      <th>8</th>\n      <td>(8 + 32767) % 32768</td>\n      <td>7</td>\n      <td>(8 - 1) % 32768</td>\n    </tr>\n    <tr>\n      <th>9</th>\n      <td>(9 + 32767) % 32768</td>\n      <td>8</td>\n      <td>(9 - 1) % 32768</td>\n    </tr>\n  </tbody>\n</table>\n</div>"
     },
     "metadata": {},
     "execution_count": 1
    }
   ],
   "source": [
    "import pandas\n",
    "pandas.set_option(\"precision\", 0)\n",
    "\n",
    "MAX_INT = 32768\n",
    "\n",
    "def add32767(value):\n",
    "    return (value + 32767) % MAX_INT\n",
    "\n",
    "pandas.DataFrame(\n",
    "    ({\n",
    "        'x in function': f'({i} + 32767) % {MAX_INT}',\n",
    "        'result': add32767(i),\n",
    "        'approximation': f'({i} - 1) % {MAX_INT}'\n",
    "    } for i in range(10))\n",
    ")"
   ]
  },
  {
   "source": [
    "This function can be translated then to:\n",
    "\n",
    "$$\n",
    "\\begin{array}{lcl}\n",
    "f(0, y, n) & = & y + 1 \\\\\n",
    "f(x, 0, n) & = & f(x - 1, n, n) \\\\\n",
    "f(x, y, n) & = & f(x - 1, f(x, y - 1, n), n)\n",
    "\\end{array}\n",
    "$$\n",
    "\n",
    "In Python:"
   ],
   "cell_type": "markdown",
   "metadata": {}
  },
  {
   "cell_type": "code",
   "execution_count": 2,
   "metadata": {},
   "outputs": [],
   "source": [
    "from functools import lru_cache\n",
    "\n",
    "@lru_cache(maxsize=None)\n",
    "def f(x, y, n):\n",
    "    if x == 0:\n",
    "        return (y + 1) % MAX_INT\n",
    "\n",
    "    if y == 0:\n",
    "        return f(x - 1, n, n)\n",
    "\n",
    "    return f(x - 1, f(x, y - 1, n), n)"
   ]
  },
  {
   "source": [
    "Unfortunately this function cannot be directly express as single calculation, or replace by loop.\n",
    "Let's try something generate few values in order to find some patterns for optimalizations."
   ],
   "cell_type": "markdown",
   "metadata": {}
  },
  {
   "cell_type": "code",
   "execution_count": 3,
   "metadata": {},
   "outputs": [
    {
     "output_type": "execute_result",
     "data": {
      "text/plain": [
       "            0   1    2     3     4     5     6     7     8      9\n",
       "f(1, 0, n)  1   2    3     4     5     6     7     8     9     10\n",
       "f(1, 1, n)  2   3    4     5     6     7     8     9    10     11\n",
       "f(1, 2, n)  3   4    5     6     7     8     9    10    11     12\n",
       "f(1, 3, n)  4   5    6     7     8     9    10    11    12     13\n",
       "f(1, 4, n)  5   6    7     8     9    10    11    12    13     14\n",
       "f(2, 0, n)  1   3    5     7     9    11    13    15    17     19\n",
       "f(2, 1, n)  2   5    8    11    14    17    20    23    26     29\n",
       "f(2, 2, n)  3   7   11    15    19    23    27    31    35     39\n",
       "f(2, 3, n)  4   9   14    19    24    29    34    39    44     49\n",
       "f(2, 4, n)  5  11   17    23    29    35    41    47    53     59\n",
       "f(3, 0, n)  1   5   11    19    29    41    55    71    89    109\n",
       "f(3, 1, n)  2  13   38    83   154   257   398   583   818   1109\n",
       "f(3, 2, n)  3  29  119   339   779  1553  2799  4679  7379  11109\n",
       "f(3, 3, n)  4  61  362  1363  3904  9329   NaN   NaN   NaN    NaN"
      ],
      "text/html": "<div>\n<style scoped>\n    .dataframe tbody tr th:only-of-type {\n        vertical-align: middle;\n    }\n\n    .dataframe tbody tr th {\n        vertical-align: top;\n    }\n\n    .dataframe thead th {\n        text-align: right;\n    }\n</style>\n<table border=\"1\" class=\"dataframe\">\n  <thead>\n    <tr style=\"text-align: right;\">\n      <th></th>\n      <th>0</th>\n      <th>1</th>\n      <th>2</th>\n      <th>3</th>\n      <th>4</th>\n      <th>5</th>\n      <th>6</th>\n      <th>7</th>\n      <th>8</th>\n      <th>9</th>\n    </tr>\n  </thead>\n  <tbody>\n    <tr>\n      <th>f(1, 0, n)</th>\n      <td>1</td>\n      <td>2</td>\n      <td>3</td>\n      <td>4</td>\n      <td>5</td>\n      <td>6</td>\n      <td>7</td>\n      <td>8</td>\n      <td>9</td>\n      <td>10</td>\n    </tr>\n    <tr>\n      <th>f(1, 1, n)</th>\n      <td>2</td>\n      <td>3</td>\n      <td>4</td>\n      <td>5</td>\n      <td>6</td>\n      <td>7</td>\n      <td>8</td>\n      <td>9</td>\n      <td>10</td>\n      <td>11</td>\n    </tr>\n    <tr>\n      <th>f(1, 2, n)</th>\n      <td>3</td>\n      <td>4</td>\n      <td>5</td>\n      <td>6</td>\n      <td>7</td>\n      <td>8</td>\n      <td>9</td>\n      <td>10</td>\n      <td>11</td>\n      <td>12</td>\n    </tr>\n    <tr>\n      <th>f(1, 3, n)</th>\n      <td>4</td>\n      <td>5</td>\n      <td>6</td>\n      <td>7</td>\n      <td>8</td>\n      <td>9</td>\n      <td>10</td>\n      <td>11</td>\n      <td>12</td>\n      <td>13</td>\n    </tr>\n    <tr>\n      <th>f(1, 4, n)</th>\n      <td>5</td>\n      <td>6</td>\n      <td>7</td>\n      <td>8</td>\n      <td>9</td>\n      <td>10</td>\n      <td>11</td>\n      <td>12</td>\n      <td>13</td>\n      <td>14</td>\n    </tr>\n    <tr>\n      <th>f(2, 0, n)</th>\n      <td>1</td>\n      <td>3</td>\n      <td>5</td>\n      <td>7</td>\n      <td>9</td>\n      <td>11</td>\n      <td>13</td>\n      <td>15</td>\n      <td>17</td>\n      <td>19</td>\n    </tr>\n    <tr>\n      <th>f(2, 1, n)</th>\n      <td>2</td>\n      <td>5</td>\n      <td>8</td>\n      <td>11</td>\n      <td>14</td>\n      <td>17</td>\n      <td>20</td>\n      <td>23</td>\n      <td>26</td>\n      <td>29</td>\n    </tr>\n    <tr>\n      <th>f(2, 2, n)</th>\n      <td>3</td>\n      <td>7</td>\n      <td>11</td>\n      <td>15</td>\n      <td>19</td>\n      <td>23</td>\n      <td>27</td>\n      <td>31</td>\n      <td>35</td>\n      <td>39</td>\n    </tr>\n    <tr>\n      <th>f(2, 3, n)</th>\n      <td>4</td>\n      <td>9</td>\n      <td>14</td>\n      <td>19</td>\n      <td>24</td>\n      <td>29</td>\n      <td>34</td>\n      <td>39</td>\n      <td>44</td>\n      <td>49</td>\n    </tr>\n    <tr>\n      <th>f(2, 4, n)</th>\n      <td>5</td>\n      <td>11</td>\n      <td>17</td>\n      <td>23</td>\n      <td>29</td>\n      <td>35</td>\n      <td>41</td>\n      <td>47</td>\n      <td>53</td>\n      <td>59</td>\n    </tr>\n    <tr>\n      <th>f(3, 0, n)</th>\n      <td>1</td>\n      <td>5</td>\n      <td>11</td>\n      <td>19</td>\n      <td>29</td>\n      <td>41</td>\n      <td>55</td>\n      <td>71</td>\n      <td>89</td>\n      <td>109</td>\n    </tr>\n    <tr>\n      <th>f(3, 1, n)</th>\n      <td>2</td>\n      <td>13</td>\n      <td>38</td>\n      <td>83</td>\n      <td>154</td>\n      <td>257</td>\n      <td>398</td>\n      <td>583</td>\n      <td>818</td>\n      <td>1109</td>\n    </tr>\n    <tr>\n      <th>f(3, 2, n)</th>\n      <td>3</td>\n      <td>29</td>\n      <td>119</td>\n      <td>339</td>\n      <td>779</td>\n      <td>1553</td>\n      <td>2799</td>\n      <td>4679</td>\n      <td>7379</td>\n      <td>11109</td>\n    </tr>\n    <tr>\n      <th>f(3, 3, n)</th>\n      <td>4</td>\n      <td>61</td>\n      <td>362</td>\n      <td>1363</td>\n      <td>3904</td>\n      <td>9329</td>\n      <td>NaN</td>\n      <td>NaN</td>\n      <td>NaN</td>\n      <td>NaN</td>\n    </tr>\n  </tbody>\n</table>\n</div>"
     },
     "metadata": {},
     "execution_count": 3
    }
   ],
   "source": [
    "def test(x, y, reg7, expected, result):\n",
    "    assert expected == result, f'Error for {x}, {y}, {reg7}, excepted {expected}, was: {result}'\n",
    "\n",
    "\n",
    "paramaters = [(x, y) for x in range(1, 3) for y in range(5)] + [(3, y) for y in range(4)]\n",
    "test_results = [(x, y, n, f(x, y, n)) for x, y in paramaters for n in range(10) if not (x == 3 and y == 3 and n > 5)]\n",
    "\n",
    "out = {}\n",
    "for test_result in test_results:\n",
    "    x, y, n, result = test_result\n",
    "    label = f'f({x}, {y}, n)'\n",
    "    n_result = out.get(label, {})\n",
    "    n_result[n] = result\n",
    "    out[label] = n_result\n",
    "\n",
    "pandas.DataFrame(out).transpose()"
   ]
  },
  {
   "source": [
    "It is easy to calculate the $ f(1, y, n) $. Let us expand it:\n",
    "\n",
    "$$\n",
    "\\begin{array}{lcl}\n",
    "f(1, y, n) & = & f(0, f(1, y - 1, n), n) \\\\\n",
    "           & = & 1 + f(1, y - 1, n) \\\\\n",
    "           & = & 1 + 1 + f(1, y - 2, n) \\\\\n",
    "           & = &  ... \\\\\n",
    "           & = & \\sum^{y} 1 + f(1, 0, n) \\\\\n",
    "           & = & \\sum^{y} 1 + f(0, n, n) \\\\\n",
    "           & = & \\sum^{y} 1 + n + 1 \\\\\n",
    "           & = & y + n + 1\n",
    "\\end{array}\n",
    "$$\n"
   ],
   "cell_type": "markdown",
   "metadata": {}
  },
  {
   "cell_type": "code",
   "execution_count": 4,
   "metadata": {},
   "outputs": [
    {
     "output_type": "stream",
     "name": "stdout",
     "text": [
      "f(1, y) -> n + 1 + y\n"
     ]
    }
   ],
   "source": [
    "for x, y, n, expected in test_results:\n",
    "    if x == 1:\n",
    "        test(x, y, n, expected, n + 1 + y)\n",
    "\n",
    "print('f(1, y) -> n + 1 + y')"
   ]
  },
  {
   "cell_type": "code",
   "execution_count": 5,
   "metadata": {},
   "outputs": [
    {
     "output_type": "stream",
     "name": "stdout",
     "text": [
      "f_v1 is equivalent to f\n"
     ]
    }
   ],
   "source": [
    "@lru_cache(maxsize=None)\n",
    "def f_v1(x, y, n):\n",
    "    if x == 0:\n",
    "        return (y + 1) % MAX_INT\n",
    "    if x == 1:\n",
    "        return (n + y + 1) % MAX_INT\n",
    "\n",
    "    if y == 0:\n",
    "        return f_v1(x - 1, n, n)\n",
    "\n",
    "    return f_v1(x - 1, f_v1(x, y - 1, n), n)\n",
    "\n",
    "for x, y, n, expected in test_results:\n",
    "    test(x, y, n, expected, f_v1(x, y, n))\n",
    "\n",
    "print('f_v1 is equivalent to f')"
   ]
  },
  {
   "cell_type": "code",
   "execution_count": 6,
   "metadata": {},
   "outputs": [
    {
     "output_type": "stream",
     "name": "stdout",
     "text": [
      "f(2, y) -> (x + y) * n + (x + y - 1) \n"
     ]
    }
   ],
   "source": [
    "for x, y, n, expected in test_results:\n",
    "    if x == 2:\n",
    "        test(x, y, n, expected, (x + y) * n + (x + y - 1))\n",
    "\n",
    "print('f(2, y) -> (x + y) * n + (x + y - 1) ')"
   ]
  },
  {
   "cell_type": "code",
   "execution_count": 7,
   "metadata": {},
   "outputs": [
    {
     "output_type": "stream",
     "name": "stdout",
     "text": [
      "f_v2 is equivalent to f\n"
     ]
    }
   ],
   "source": [
    "@lru_cache(maxsize=None)\n",
    "def f_v2(x, y, n):\n",
    "    if x == 0:\n",
    "        return (y + 1) % MAX_INT\n",
    "    if x == 1:\n",
    "        return (n + 1 + y) % MAX_INT\n",
    "    if x == 2:\n",
    "        return ((x + y) * n + (x + y - 1)) % MAX_INT\n",
    "\n",
    "    if y == 0:\n",
    "        return f_v2(x - 1, n, n)\n",
    "   \n",
    "    return f_v2(x - 1, f_v2(x, y - 1, n), n)\n",
    "\n",
    "for x, y, n, expected in test_results:\n",
    "    test(x, y, n, expected, f_v2(x, y, n))\n",
    "\n",
    "print('f_v2 is equivalent to f')\n"
   ]
  },
  {
   "cell_type": "code",
   "execution_count": 8,
   "metadata": {},
   "outputs": [
    {
     "output_type": "execute_result",
     "data": {
      "text/plain": [
       "            0   1    2     3     4     5      6      7      8       9\n",
       "f(3, 0, n)  1   5   11    19    29    41     55     71     89     109\n",
       "f(3, 1, n)  2  13   38    83   154   257    398    583    818    1109\n",
       "f(3, 2, n)  3  29  119   339   779  1553   2799   4679   7379   11109\n",
       "f(3, 3, n)  4  61  362  1363  3904  9329  19606  37447  66428  111109"
      ],
      "text/html": "<div>\n<style scoped>\n    .dataframe tbody tr th:only-of-type {\n        vertical-align: middle;\n    }\n\n    .dataframe tbody tr th {\n        vertical-align: top;\n    }\n\n    .dataframe thead th {\n        text-align: right;\n    }\n</style>\n<table border=\"1\" class=\"dataframe\">\n  <thead>\n    <tr style=\"text-align: right;\">\n      <th></th>\n      <th>0</th>\n      <th>1</th>\n      <th>2</th>\n      <th>3</th>\n      <th>4</th>\n      <th>5</th>\n      <th>6</th>\n      <th>7</th>\n      <th>8</th>\n      <th>9</th>\n    </tr>\n  </thead>\n  <tbody>\n    <tr>\n      <th>f(3, 0, n)</th>\n      <td>1</td>\n      <td>5</td>\n      <td>11</td>\n      <td>19</td>\n      <td>29</td>\n      <td>41</td>\n      <td>55</td>\n      <td>71</td>\n      <td>89</td>\n      <td>109</td>\n    </tr>\n    <tr>\n      <th>f(3, 1, n)</th>\n      <td>2</td>\n      <td>13</td>\n      <td>38</td>\n      <td>83</td>\n      <td>154</td>\n      <td>257</td>\n      <td>398</td>\n      <td>583</td>\n      <td>818</td>\n      <td>1109</td>\n    </tr>\n    <tr>\n      <th>f(3, 2, n)</th>\n      <td>3</td>\n      <td>29</td>\n      <td>119</td>\n      <td>339</td>\n      <td>779</td>\n      <td>1553</td>\n      <td>2799</td>\n      <td>4679</td>\n      <td>7379</td>\n      <td>11109</td>\n    </tr>\n    <tr>\n      <th>f(3, 3, n)</th>\n      <td>4</td>\n      <td>61</td>\n      <td>362</td>\n      <td>1363</td>\n      <td>3904</td>\n      <td>9329</td>\n      <td>19606</td>\n      <td>37447</td>\n      <td>66428</td>\n      <td>111109</td>\n    </tr>\n  </tbody>\n</table>\n</div>"
     },
     "metadata": {},
     "execution_count": 8
    }
   ],
   "source": [
    "approximations = {\n",
    "    # 1 + n (3 + n)\n",
    "    (3, 0): lambda n: (n + 1) ** 2 + n,                                  # n^2 + 3 n + 1\n",
    "\n",
    "    # 2 + n (6 + n (4 + n))\n",
    "    (3, 1): lambda n: (n + 1) ** 2 * (n + 2) + n,                        # n^3 + 4 n^2 + 6 n + 2\n",
    "\n",
    "    # 3 + n (10 + n (10 + n (5 + n)))\n",
    "    (3, 2): lambda n: (n + 1) ** 3 * (n + 2) + (n + 1)**2 + n,           # n^4 + 5 n^3 + 10 n^2 + 10 n + 3\n",
    "\n",
    "    # 4 + n (15 + n (20 + n (15 + n (6 + n))))\n",
    "    (3, 3): lambda n: (n + 1) ** 4 * (n + 2) + (n + 1)**2 * (n + 2) + n  # n^5 + 6 n^4 + 15 n^3 + 20 n^2 + 15 n + 4\n",
    "}\n",
    "\n",
    "keys = list(range(len(approximations)))\n",
    "pandas.DataFrame(\n",
    "    [[approximations[(3, y)](n) for n in range(10)] for y in keys],\n",
    "    (f'f(3, {y}, n)' for y in keys))"
   ]
  },
  {
   "source": [
    "If you look on the multiplication for next n element in the polynomial, the pattern emerge:\n",
    "\n",
    "| Function | Polynomial |N multiplaries|\n",
    "|----------|------------|--------------|\n",
    "| `f(3, 0, n)` | n^2 + 3 n + 1 | 1, 3 |\n",
    "| `f(3, 1, n)` | n^3 + 4 n^2 + 6 n + 2 | 1, 4, 6 |\n",
    "| `f(3, 2, n)` | n^4 + 5 n^3 + 10 n^2 + 10 n + 3| 1, 5, 10, 10 |\n",
    "| `f(3, 3, n)` | n^5 + 6 n^4 + 15 n^3 + 20 n^2 + 15 n + 4 | 1, 6, 15, 20, 15 |\n"
   ],
   "cell_type": "markdown",
   "metadata": {}
  },
  {
   "source": [
    "def pascal_triangle():\n",
    "    layer = [1]\n",
    "\n",
    "    while True:\n",
    "        yield layer\n",
    "        layer = [1] + list(x + y for x, y in zip(layer, layer[1:])) + [1]\n",
    "\n",
    "\n",
    "g = pascal_triangle()\n",
    "for row in range(13):\n",
    "    print(f'{row:2}:', '{:^80}'.format(' '.join(map('{:^5}'.format, next(g)))))"
   ],
   "cell_type": "code",
   "metadata": {},
   "execution_count": 9,
   "outputs": [
    {
     "output_type": "stream",
     "name": "stdout",
     "text": [
      " 0:                                        1                                        \n 1:                                     1     1                                     \n 2:                                  1     2     1                                  \n 3:                               1     3     3     1                               \n 4:                            1     4     6     4     1                            \n 5:                         1     5    10    10     5     1                         \n 6:                      1     6    15    20    15     6     1                      \n 7:                   1     7    21    35    35    21     7     1                   \n 8:                1     8    28    56    70    56    28     8     1                \n 9:             1     9    36    84    126   126   84    36     9     1             \n10:          1    10    45    120   210   252   210   120   45    10     1          \n11:       1    11    55    165   330   462   462   330   165   55    11     1       \n12:    1    12    66    220   495   792   924   792   495   220   66    12     1    \n"
     ]
    }
   ]
  },
  {
   "source": [
    "Triangle is a bit trimmed (by two last digits in each row).\n",
    "\n",
    "Therefore the general equation for f(3, y, n) is: $$ f(3, y, n) = \\sum_{k=0}^{y+1} {{y + 3} \\choose k} n^{y + 2 - k} + y + 1 $$"
   ],
   "cell_type": "markdown",
   "metadata": {}
  },
  {
   "cell_type": "code",
   "execution_count": 10,
   "metadata": {},
   "outputs": [],
   "source": [
    "from operator import mul\n",
    "from functools import reduce\n",
    "\n",
    "@lru_cache(maxsize=None)\n",
    "def binomial_coefficient(n: int, k: int) -> int:\n",
    "    k = min(k, n - k)\n",
    "    if n == 0 or k == 0: return 1\n",
    "\n",
    "    return reduce(mul, range(n, n - k, -1)) // reduce(mul, range(1, k + 1))\n",
    "\n",
    "\n",
    "assert binomial_coefficient(1, 1) == 1\n",
    "assert binomial_coefficient(6, 2) == 15\n",
    "assert binomial_coefficient(12, 9) == 220\n",
    "assert binomial_coefficient(10, 7) == 120"
   ]
  },
  {
   "cell_type": "code",
   "execution_count": 11,
   "metadata": {},
   "outputs": [
    {
     "output_type": "stream",
     "name": "stdout",
     "text": [
      "f(3, y, n) -> sum(binomial_coefficient(y + 3, k) * n ** (y + 2 - k) for k in range(y + 2)) + y + 1\n"
     ]
    }
   ],
   "source": [
    "for x, y, n, expected in test_results:\n",
    "    if x == 3:\n",
    "        test(x, y, n, expected, sum(binomial_coefficient(y + 3, k) * n ** (y + 2 - k) for k in range(y + 2)) + y + 1)\n",
    "\n",
    "print('f(3, y, n) -> sum(binomial_coefficient(y + 3, k) * n ** (y + 2 - k) for k in range(y + 2)) + y + 1')"
   ]
  },
  {
   "cell_type": "code",
   "execution_count": 12,
   "metadata": {},
   "outputs": [
    {
     "output_type": "stream",
     "name": "stdout",
     "text": [
      "f_v3 is equivalent to f\n"
     ]
    }
   ],
   "source": [
    "@lru_cache(maxsize=None)\n",
    "def f_v3(x, y, n):\n",
    "    if x == 0:\n",
    "        return (y + 1) % MAX_INT\n",
    "    if x == 1:\n",
    "        return (n + 1 + y) % MAX_INT\n",
    "    if x == 2:\n",
    "        return ((x + y) * n + x + y - 1) % MAX_INT\n",
    "    if x == 3:\n",
    "        return (sum(binomial_coefficient(y + 3, k) * n ** (y + 2 - k) for k in range(y + 2)) + y + 1) % MAX_INT\n",
    "\n",
    "    if y == 0:\n",
    "        return f_v3(x - 1, n, n)\n",
    "   \n",
    "    return f_v3(x - 1, f_v3(x, y - 1, n), n)\n",
    "\n",
    "for x, y, n, expected in test_results:\n",
    "    test(x, y, n, expected, f_v3(x, y, n))\n",
    "\n",
    "print('f_v3 is equivalent to f')"
   ]
  },
  {
   "source": [
    "It is worth to point out expression of $ f(4, 1, n) $:\n",
    "\n",
    "$$\n",
    "\\begin{array}{lcl}\n",
    "f(4, 1, n) & = & f(3, f(4, 0, n), n) \\\\\n",
    "           & = & f(3, f(3, n, n), n)\n",
    "\\end{array}\n",
    "$$\n",
    "\n",
    "The use of binomial_coefficient is not very effective. There for it require change of appreach. Going back to $ f(2, y, n) $ form:\n",
    "\n",
    "$$\n",
    "\\begin{array}{lcl}\n",
    "f(2, y, n) & = & (x + y) n + x + y - 1 \\\\\n",
    "           & = & xn + yn + x + y - 1 \\\\\n",
    "           & = & x(n + 1) + y(n + 1) - 1 \\\\\n",
    "           & = & (x + y)(n + 1) - 1\n",
    "\\end{array}\n",
    "$$\n",
    "\n",
    "Then transform $ f(3, y, n) $\n",
    "\n",
    "$$\n",
    "\\begin{array}{lcl}\n",
    "f(3, y, n) & = & f(2, f(3, y - 1, n), n) \\\\\n",
    "           & = & (2 + f(3, y - 1, n))(n + 1) - 1\n",
    "\\end{array}\n",
    "$$\n",
    "\n",
    "In this form is closer to dynamic programic form.\n"
   ],
   "cell_type": "markdown",
   "metadata": {}
  },
  {
   "cell_type": "code",
   "execution_count": 13,
   "metadata": {
    "tags": []
   },
   "outputs": [
    {
     "output_type": "stream",
     "name": "stdout",
     "text": [
      "The result: 25734\n",
      "CPU times: user 4min 57s, sys: 16.9 s, total: 5min 14s\n",
      "Wall time: 5min 14s\n"
     ]
    }
   ],
   "source": [
    "%%time\n",
    "\n",
    "def calculate_f_4_1(n: int) -> int:\n",
    "    cache = { 0: approximations[(3, 0)](n) }\n",
    "    for i in range(1, MAX_INT):\n",
    "        cache[i] = ((2 + cache[i - 1]) * (n + 1) - 1) % MAX_INT\n",
    "\n",
    "    return cache[cache[n]]\n",
    "\n",
    "for n in range(1, MAX_INT):\n",
    "    if calculate_f_4_1(n) == 6:\n",
    "        print('The result:', n)"
   ]
  }
 ]
}
