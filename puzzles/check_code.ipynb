{
 "metadata": {
  "language_info": {
   "codemirror_mode": {
    "name": "ipython",
    "version": 3
   },
   "file_extension": ".py",
   "mimetype": "text/x-python",
   "name": "python",
   "nbconvert_exporter": "python",
   "pygments_lexer": "ipython3",
   "version": "3.8.5-final"
  },
  "orig_nbformat": 2,
  "kernelspec": {
   "name": "python3",
   "display_name": "Python 3",
   "language": "python"
  }
 },
 "nbformat": 4,
 "nbformat_minor": 2,
 "cells": [
  {
   "source": [
    "# Breaking the check code\n",
    "\n",
    "## Strange book:\n",
    "\n",
    ">Recent advances in interdimensional physics have produced fascinating\n",
    ">predictions about the fundamentals of our universe!  For example,\n",
    ">interdimensional physics seems to predict that the universe is, at its root, a\n",
    ">purely mathematical construct, and that all events are caused by the\n",
    ">interactions between eight pockets of energy called \"registers\".\n",
    ">Furthermore, it seems that while the lower registers primarily control mundane\n",
    ">things like sound and light, the highest register (the so-called \"eighth\n",
    ">register\") is used to control interdimensional events such as teleportation.\n",
    ">\n",
    ">A hypothetical such teleportation device would need to have have exactly two\n",
    ">destinations.  One destination would be used when the eighth register is at its\n",
    ">minimum energy level - this would be the default operation assuming the user\n",
    ">has no way to control the eighth register.  In this situation, the teleporter\n",
    ">should send the user to a preconfigured safe location as a default.\n",
    ">\n",
    ">The second destination, however, is predicted to require a very specific\n",
    ">energy level in the eighth register.  The teleporter must take great care to\n",
    ">confirm that this energy level is exactly correct before teleporting its user!\n",
    ">If it is even slightly off, the user would (probably) arrive at the correct\n",
    ">location, but would briefly experience anomalies in the fabric of reality\n",
    ">itself - this is, of course, not recommended.  Any teleporter would need to test\n",
    ">the energy level in the eighth register and abort teleportation if it is not\n",
    ">exactly correct.\n",
    ">\n",
    ">This required precision implies that the confirmation mechanism would be very\n",
    ">computationally expensive.  While this would likely not be an issue for large-\n",
    ">scale teleporters, a hypothetical hand-held teleporter would take billions of\n",
    ">years to compute the result and confirm that the eighth register is correct.\n",
    ">\n",
    ">If you find yourself trapped in an alternate dimension with nothing but a\n",
    ">hand-held teleporter, you will need to extract the confirmation algorithm,\n",
    ">reimplement it on more powerful hardware, and optimize it.  This should, at the\n",
    ">very least, allow you to determine the value of the eighth register which would\n",
    ">have been accepted by the teleporter's confirmation mechanism.\n",
    ">\n",
    ">Then, set the eighth register to this value, activate the teleporter, and\n",
    ">bypass the confirmation mechanism.  If the eighth register is set correctly, no\n",
    ">anomalies should be experienced, but beware - if it is set incorrectly, the\n",
    ">now-bypassed confirmation mechanism will not protect you!\n",
    ">\n",
    ">Of course, since teleportation is impossible, this is all totally ridiculous.\n",
    "\n",
    "## Finding the check code\n",
    "\n",
    "Start to seek every line where register7 is used. There are 4 of those. By debugging the machine we can determin which line is just testing:\n",
    "* which if register7 is empty on begining\n",
    "* test when telepert is used (if register7 is 0 normall behaviour)\n",
    "* passing value of register7 to check function (actually inside of it)\n",
    "* passing value of register7 to final function which calculating the secret code\n",
    "\n",
    "## Original code of check function\n",
    "\n",
    "```\n",
    "*   6027:      jt  register_0   6035\n",
    "    6030:     add  register_0   register_1   1\n",
    "    6034:     ret\n",
    "\n",
    "    6035:      jt  register_1   6048\n",
    "    6038:     add  register_0   register_0   32767\n",
    "    6042:     set  register_1   register_7\n",
    "    6045:    call  6027\n",
    "    6047:     ret\n",
    "\n",
    "    6048:    push  register_0\n",
    "    6050:     add  register_1   register_1   32767\n",
    "    6054:    call  6027\n",
    "    6056:     set  register_1   register_0\n",
    "    6059:     pop  register_0\n",
    "    6061:     add  register_0   register_0   32767\n",
    "    6065:    call  6027\n",
    "    6067:     ret\n",
    "```"
   ],
   "cell_type": "markdown",
   "metadata": {}
  },
  {
   "cell_type": "code",
   "execution_count": 1,
   "metadata": {},
   "outputs": [
    {
     "output_type": "stream",
     "name": "stdout",
     "text": [
      "0: (0 + 32767) % 32768 = 32767\n1: (1 + 32767) % 32768 = 0\n2: (2 + 32767) % 32768 = 1\n3: (3 + 32767) % 32768 = 2\n4: (4 + 32767) % 32768 = 3\n5: (5 + 32767) % 32768 = 4\n6: (6 + 32767) % 32768 = 5\n7: (7 + 32767) % 32768 = 6\n8: (8 + 32767) % 32768 = 7\n9: (9 + 32767) % 32768 = 8\n"
     ]
    }
   ],
   "source": [
    "MAX_INT = 32768\n",
    "\n",
    "def add32767(value):\n",
    "    return (value + 32767) % MAX_INT\n",
    "\n",
    "print('\\n'.join(f'{i}: ({i} + 32767) % {MAX_INT} = {add32767(i)}' for i in range(10)))"
   ]
  },
  {
   "source": [
    "## Translation into Python"
   ],
   "cell_type": "markdown",
   "metadata": {}
  },
  {
   "cell_type": "code",
   "execution_count": 2,
   "metadata": {},
   "outputs": [],
   "source": [
    "from functools import lru_cache\n",
    "\n",
    "@lru_cache\n",
    "def f(x, y, reg7):\n",
    "    if x == 0:\n",
    "        return (y + 1) % MAX_INT\n",
    "\n",
    "    if y == 0:\n",
    "        return f(x - 1, reg7, reg7)\n",
    "\n",
    "    return f(x - 1, f(x, y - 1, reg7), reg7)"
   ]
  },
  {
   "cell_type": "code",
   "execution_count": 3,
   "metadata": {},
   "outputs": [
    {
     "output_type": "stream",
     "name": "stdout",
     "text": [
      "f(1, 0, 0) -> 1\nf(1, 0, 1) -> 2\nf(1, 0, 2) -> 3\nf(1, 0, 3) -> 4\nf(1, 0, 4) -> 5\nf(1, 0, 5) -> 6\nf(1, 0, 6) -> 7\nf(1, 0, 7) -> 8\nf(1, 0, 8) -> 9\nf(1, 0, 9) -> 10\nf(1, 1, 0) -> 2\nf(1, 1, 1) -> 3\nf(1, 1, 2) -> 4\nf(1, 1, 3) -> 5\nf(1, 1, 4) -> 6\nf(1, 1, 5) -> 7\nf(1, 1, 6) -> 8\nf(1, 1, 7) -> 9\nf(1, 1, 8) -> 10\nf(1, 1, 9) -> 11\nf(1, 2, 0) -> 3\nf(1, 2, 1) -> 4\nf(1, 2, 2) -> 5\nf(1, 2, 3) -> 6\nf(1, 2, 4) -> 7\nf(1, 2, 5) -> 8\nf(1, 2, 6) -> 9\nf(1, 2, 7) -> 10\nf(1, 2, 8) -> 11\nf(1, 2, 9) -> 12\nf(1, 3, 0) -> 4\nf(1, 3, 1) -> 5\nf(1, 3, 2) -> 6\nf(1, 3, 3) -> 7\nf(1, 3, 4) -> 8\nf(1, 3, 5) -> 9\nf(1, 3, 6) -> 10\nf(1, 3, 7) -> 11\nf(1, 3, 8) -> 12\nf(1, 3, 9) -> 13\nf(1, 4, 0) -> 5\nf(1, 4, 1) -> 6\nf(1, 4, 2) -> 7\nf(1, 4, 3) -> 8\nf(1, 4, 4) -> 9\nf(1, 4, 5) -> 10\nf(1, 4, 6) -> 11\nf(1, 4, 7) -> 12\nf(1, 4, 8) -> 13\nf(1, 4, 9) -> 14\nf(2, 0, 0) -> 1\nf(2, 0, 1) -> 3\nf(2, 0, 2) -> 5\nf(2, 0, 3) -> 7\nf(2, 0, 4) -> 9\nf(2, 0, 5) -> 11\nf(2, 0, 6) -> 13\nf(2, 0, 7) -> 15\nf(2, 0, 8) -> 17\nf(2, 0, 9) -> 19\nf(2, 1, 0) -> 2\nf(2, 1, 1) -> 5\nf(2, 1, 2) -> 8\nf(2, 1, 3) -> 11\nf(2, 1, 4) -> 14\nf(2, 1, 5) -> 17\nf(2, 1, 6) -> 20\nf(2, 1, 7) -> 23\nf(2, 1, 8) -> 26\nf(2, 1, 9) -> 29\nf(2, 2, 0) -> 3\nf(2, 2, 1) -> 7\nf(2, 2, 2) -> 11\nf(2, 2, 3) -> 15\nf(2, 2, 4) -> 19\nf(2, 2, 5) -> 23\nf(2, 2, 6) -> 27\nf(2, 2, 7) -> 31\nf(2, 2, 8) -> 35\nf(2, 2, 9) -> 39\nf(2, 3, 0) -> 4\nf(2, 3, 1) -> 9\nf(2, 3, 2) -> 14\nf(2, 3, 3) -> 19\nf(2, 3, 4) -> 24\nf(2, 3, 5) -> 29\nf(2, 3, 6) -> 34\nf(2, 3, 7) -> 39\nf(2, 3, 8) -> 44\nf(2, 3, 9) -> 49\nf(2, 4, 0) -> 5\nf(2, 4, 1) -> 11\nf(2, 4, 2) -> 17\nf(2, 4, 3) -> 23\nf(2, 4, 4) -> 29\nf(2, 4, 5) -> 35\nf(2, 4, 6) -> 41\nf(2, 4, 7) -> 47\nf(2, 4, 8) -> 53\nf(2, 4, 9) -> 59\nf(3, 0, 0) -> 1\nf(3, 0, 1) -> 5\nf(3, 0, 2) -> 11\nf(3, 0, 3) -> 19\nf(3, 0, 4) -> 29\nf(3, 1, 0) -> 2\nf(3, 1, 1) -> 13\nf(3, 1, 2) -> 38\nf(3, 1, 3) -> 83\nf(3, 1, 4) -> 154\nf(3, 2, 0) -> 3\nf(3, 2, 1) -> 29\nf(3, 2, 2) -> 119\nf(3, 2, 3) -> 339\nf(3, 2, 4) -> 779\nf(3, 3, 0) -> 4\nf(3, 3, 1) -> 61\nf(3, 3, 2) -> 362\nf(3, 3, 3) -> 1363\nf(3, 3, 4) -> 3904\n"
     ]
    }
   ],
   "source": [
    "paramaters = [(x, y, reg7) for x in range(1, 3) for y in range(5) for reg7 in range(10)] + [(3, y, reg7) for y in range(4) for reg7 in range(5)]\n",
    "test_results = [(x, y, reg7, f(x, y, reg7)) for x, y, reg7 in paramaters]\n",
    "\n",
    "print(\"\\n\".join(f'f({x}, {y}, {reg7}) -> {r}' for x, y, reg7, r in test_results))"
   ]
  },
  {
   "cell_type": "code",
   "execution_count": 4,
   "metadata": {},
   "outputs": [],
   "source": [
    "@lru_cache\n",
    "def new_f(x, y, reg7):\n",
    "    if x == 0:\n",
    "        return (y + 1) % 32768\n",
    "    if x == 1:\n",
    "        return (reg7 + 1 + y) % MAX_INT\n",
    "    if x == 2:\n",
    "        return ((x + y) * reg7 + (x + y - 1)) % MAX_INT\n",
    "    if y == 0:\n",
    "        return new_f(x - 1, reg7, reg7)\n",
    "   \n",
    "    return new_f(x - 1, new_f(x, y - 1, reg7), reg7)\n",
    "\n",
    "def test(x, y, reg7, expected, result):\n",
    "    assert expected == result, f'error for {x}, {y}, {reg7}, excepted {expected}, was: {result}'"
   ]
  },
  {
   "source": [
    "for x, y, reg7, expected in test_results:\n",
    "    if reg7 != 0:\n",
    "        test(x, y, reg7, expected, new_f(x, y, reg7))    \n"
   ],
   "cell_type": "code",
   "metadata": {},
   "execution_count": 5,
   "outputs": []
  },
  {
   "cell_type": "code",
   "execution_count": 6,
   "metadata": {},
   "outputs": [
    {
     "output_type": "stream",
     "name": "stdout",
     "text": [
      "f(1, y) -> reg7 + 1 + y\n"
     ]
    }
   ],
   "source": [
    "print('f(1, y) -> reg7 + 1 + y')\n",
    "for x, y, reg7, expected in test_results:\n",
    "    if x == 1:\n",
    "        test(x, y, reg7, expected, reg7 + 1 + y)"
   ]
  },
  {
   "cell_type": "code",
   "execution_count": 7,
   "metadata": {},
   "outputs": [
    {
     "output_type": "stream",
     "name": "stdout",
     "text": [
      "f(2, y) -> (x + y) * reg7 + (x + y - 1)\n"
     ]
    }
   ],
   "source": [
    "print('f(2, y) -> (x + y) * reg7 + (x + y - 1)')\n",
    "for x, y, reg7, expected in test_results:\n",
    "    if x == 2:\n",
    "        test(x, y, reg7, expected, (x + y) * reg7 + (x + y - 1))"
   ]
  }
 ]
}